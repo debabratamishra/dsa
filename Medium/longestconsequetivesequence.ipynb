{
 "cells": [
  {
   "cell_type": "markdown",
   "metadata": {},
   "source": [
    "Given an array of integers nums, return the length of the longest consecutive sequence of elements that can be formed.\n",
    "\n",
    "A consecutive sequence is a sequence of elements in which each element is exactly 1 greater than the previous element. The elements do not have to be consecutive in the original array.\n",
    "\n",
    "You must write an algorithm that runs in O(n) time.\n",
    "\n",
    "Example 1:\n",
    "\n",
    "Input: nums = [2,20,4,10,3,4,5]\n",
    "\n",
    "Output: 4\n",
    "Explanation: The longest consecutive sequence is [2, 3, 4, 5].\n",
    "\n",
    "Example 2:\n",
    "\n",
    "Input: nums = [0,3,2,5,4,6,1,1]\n",
    "\n",
    "Output: 7\n",
    "Constraints:\n",
    "\n",
    "0 <= nums.length <= 1000\n",
    "-10^9 <= nums[i] <= 10^9"
   ]
  },
  {
   "cell_type": "code",
   "execution_count": 56,
   "metadata": {},
   "outputs": [],
   "source": [
    "from typing import List\n",
    "class Solution:\n",
    "    def longestConsecutive(self, nums: List[int]) -> int:\n",
    "        if not nums:\n",
    "            return 0\n",
    "        res = 0\n",
    "        nums.sort()\n",
    "\n",
    "        curr = nums[0]\n",
    "        streak = 0\n",
    "        i = 0\n",
    "        while i< len(nums):\n",
    "            if curr != nums[i]:\n",
    "                curr = nums[i]\n",
    "                streak = 0\n",
    "            while i< len(nums) and nums[i] == curr:\n",
    "                i= i+1\n",
    "            streak = streak +1\n",
    "            curr = curr +1\n",
    "            res = max(res, streak)\n",
    "        return res"
   ]
  },
  {
   "cell_type": "code",
   "execution_count": 57,
   "metadata": {},
   "outputs": [
    {
     "data": {
      "text/plain": [
       "4"
      ]
     },
     "execution_count": 57,
     "metadata": {},
     "output_type": "execute_result"
    }
   ],
   "source": [
    "sol = Solution()\n",
    "sol.longestConsecutive([2,20,4,10,3,4,5])"
   ]
  }
 ],
 "metadata": {
  "kernelspec": {
   "display_name": "py312",
   "language": "python",
   "name": "python3"
  },
  "language_info": {
   "codemirror_mode": {
    "name": "ipython",
    "version": 3
   },
   "file_extension": ".py",
   "mimetype": "text/x-python",
   "name": "python",
   "nbconvert_exporter": "python",
   "pygments_lexer": "ipython3",
   "version": "3.12.7"
  }
 },
 "nbformat": 4,
 "nbformat_minor": 2
}
