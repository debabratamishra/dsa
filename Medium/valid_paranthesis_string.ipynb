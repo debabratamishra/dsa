{
 "cells": [
  {
   "cell_type": "markdown",
   "metadata": {},
   "source": [
    "Valid Parenthesis String\n",
    "You are given a string s which contains only three types of characters: '(', ')' and '*'.\n",
    "\n",
    "Return true if s is valid, otherwise return false.\n",
    "\n",
    "A string is valid if it follows all of the following rules:\n",
    "\n",
    "Every left parenthesis '(' must have a corresponding right parenthesis ')'.\n",
    "Every right parenthesis ')' must have a corresponding left parenthesis '('.\n",
    "Left parenthesis '(' must go before the corresponding right parenthesis ')'.\n",
    "A '*' could be treated as a right parenthesis ')' character or a left parenthesis '(' character, or as an empty string \"\".\n",
    "Example 1:\n",
    "\n",
    "Input: s = \"((**)\"\n",
    "\n",
    "Output: true\n",
    "Explanation: One of the '*' could be a ')' and the other could be an empty string.\n",
    "\n",
    "Example 2:\n",
    "\n",
    "Input: s = \"(((*)\"\n",
    "\n",
    "Output: false\n",
    "Explanation: The string is not valid because there is an extra '(' at the beginning, regardless of the extra '*'.\n",
    "\n",
    "Constraints:\n",
    "\n",
    "1 <= s.length <= 100"
   ]
  },
  {
   "cell_type": "code",
   "execution_count": null,
   "metadata": {},
   "outputs": [],
   "source": [
    "# Time Complexity O(N)\n",
    "# Space Complexity O(1)\n",
    "\n",
    "class Solution:\n",
    "    def checkValidString(self, s: str) -> bool:\n",
    "        leftMin, leftMax = 0, 0\n",
    "\n",
    "        for c in s:\n",
    "            if c == \"(\":\n",
    "                leftMin, leftMax = leftMin + 1, leftMax + 1\n",
    "            elif c == \")\":\n",
    "                leftMin, leftMax = leftMin - 1, leftMax - 1\n",
    "            else:\n",
    "                leftMin, leftMax = leftMin - 1, leftMax + 1\n",
    "            if leftMax < 0:\n",
    "                return False\n",
    "            if leftMin < 0:\n",
    "                leftMin = 0\n",
    "                \n",
    "        return leftMin == 0\n",
    "        "
   ]
  },
  {
   "cell_type": "code",
   "execution_count": 23,
   "metadata": {},
   "outputs": [
    {
     "data": {
      "text/plain": [
       "True"
      ]
     },
     "execution_count": 23,
     "metadata": {},
     "output_type": "execute_result"
    }
   ],
   "source": [
    "sol = Solution()\n",
    "sol.checkValidString(s = \"((**)\")"
   ]
  },
  {
   "cell_type": "code",
   "execution_count": 24,
   "metadata": {},
   "outputs": [
    {
     "data": {
      "text/plain": [
       "False"
      ]
     },
     "execution_count": 24,
     "metadata": {},
     "output_type": "execute_result"
    }
   ],
   "source": [
    "sol = Solution()\n",
    "sol.checkValidString(s=\"(*)(\")"
   ]
  },
  {
   "cell_type": "code",
   "execution_count": null,
   "metadata": {},
   "outputs": [],
   "source": []
  }
 ],
 "metadata": {
  "kernelspec": {
   "display_name": "py312",
   "language": "python",
   "name": "python3"
  },
  "language_info": {
   "codemirror_mode": {
    "name": "ipython",
    "version": 3
   },
   "file_extension": ".py",
   "mimetype": "text/x-python",
   "name": "python",
   "nbconvert_exporter": "python",
   "pygments_lexer": "ipython3",
   "version": "3.12.7"
  }
 },
 "nbformat": 4,
 "nbformat_minor": 2
}
