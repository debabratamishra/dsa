{
 "cells": [
  {
   "cell_type": "markdown",
   "id": "ad68496f",
   "metadata": {},
   "source": [
    "Number of Islands\n",
    "Given a 2D grid grid where '1' represents land and '0' represents water, count and return the number of islands.\n",
    "\n",
    "An island is formed by connecting adjacent lands horizontally or vertically and is surrounded by water. You may assume water is surrounding the grid (i.e., all the edges are water).\n",
    "\n",
    "Example 1:\n",
    "\n",
    "Input: grid = [\n",
    "    [\"0\",\"1\",\"1\",\"1\",\"0\"],\n",
    "    [\"0\",\"1\",\"0\",\"1\",\"0\"],\n",
    "    [\"1\",\"1\",\"0\",\"0\",\"0\"],\n",
    "    [\"0\",\"0\",\"0\",\"0\",\"0\"]\n",
    "  ]\n",
    "Output: 1\n",
    "Example 2:\n",
    "\n",
    "Input: grid = [\n",
    "    [\"1\",\"1\",\"0\",\"0\",\"1\"],\n",
    "    [\"1\",\"1\",\"0\",\"0\",\"1\"],\n",
    "    [\"0\",\"0\",\"1\",\"0\",\"0\"],\n",
    "    [\"0\",\"0\",\"0\",\"1\",\"1\"]\n",
    "  ]\n",
    "Output: 4\n",
    "Constraints:\n",
    "\n",
    "1 <= grid.length, grid[i].length <= 100\n",
    "grid[i][j] is '0' or '1'."
   ]
  },
  {
   "cell_type": "code",
   "execution_count": 2,
   "id": "ed51dae5",
   "metadata": {},
   "outputs": [],
   "source": [
    "# DFS\n",
    "# Time Complexity : O(m*n)\n",
    "# Space Complexity : O(m*n)\n",
    "# Where m is the number of rows and n is number of columns\n",
    "\n",
    "from typing import List\n",
    "\n",
    "class Solution:\n",
    "    def numIslands(self, grid: List[List[str]]) -> int:\n",
    "        directions = [[1, 0], [-1, 0], [0, 1], [0, -1]]\n",
    "        ROWS, COLS = len(grid), len(grid[0])\n",
    "        islands = 0\n",
    "\n",
    "        def dfs(r, c):\n",
    "            if (r < 0 or c < 0 or r >= ROWS or \n",
    "                c >= COLS or grid[r][c] == \"0\"\n",
    "            ):\n",
    "                return\n",
    "                \n",
    "            grid[r][c] = \"0\"\n",
    "            for dr, dc in directions:\n",
    "                dfs(r + dr, c + dc)\n",
    "\n",
    "        for r in range(ROWS):\n",
    "            for c in range(COLS):\n",
    "                if grid[r][c] == \"1\":\n",
    "                    dfs(r, c)\n",
    "                    islands += 1\n",
    "\n",
    "        return islands"
   ]
  },
  {
   "cell_type": "code",
   "execution_count": 3,
   "id": "d1de9643",
   "metadata": {},
   "outputs": [
    {
     "data": {
      "text/plain": [
       "1"
      ]
     },
     "execution_count": 3,
     "metadata": {},
     "output_type": "execute_result"
    }
   ],
   "source": [
    "sol = Solution()\n",
    "sol.numIslands(grid = [\n",
    "    [\"0\",\"1\",\"1\",\"1\",\"0\"],\n",
    "    [\"0\",\"1\",\"0\",\"1\",\"0\"],\n",
    "    [\"1\",\"1\",\"0\",\"0\",\"0\"],\n",
    "    [\"0\",\"0\",\"0\",\"0\",\"0\"]\n",
    "  ])"
   ]
  },
  {
   "cell_type": "code",
   "execution_count": 6,
   "id": "5576e30a",
   "metadata": {},
   "outputs": [],
   "source": [
    "# BFS\n",
    "# Time Complexity : O(m*n)\n",
    "# Space Complexity : O(m*n)\n",
    "# Where m is the number of rows and n is number of columns\n",
    "\n",
    "from collections import deque\n",
    "class Solution:\n",
    "    def numIslands(self, grid: List[List[str]]) -> int:\n",
    "        directions = [[1, 0], [-1, 0], [0, 1], [0, -1]]\n",
    "        ROWS, COLS = len(grid), len(grid[0])\n",
    "        islands = 0\n",
    "\n",
    "        def bfs(r, c):\n",
    "            q = deque()\n",
    "            grid[r][c] = \"0\"\n",
    "            q.append((r, c))\n",
    "\n",
    "            while q:\n",
    "                row, col = q.popleft()  \n",
    "                for dr, dc in directions:\n",
    "                    nr, nc = dr + row, dc + col\n",
    "                    if (nr < 0 or nc < 0 or nr >= ROWS or\n",
    "                        nc >= COLS or grid[nr][nc] == \"0\"\n",
    "                    ):\n",
    "                        continue\n",
    "                    q.append((nr, nc))\n",
    "                    grid[nr][nc] = \"0\"\n",
    "\n",
    "        for r in range(ROWS):\n",
    "            for c in range(COLS):\n",
    "                if grid[r][c] == \"1\":\n",
    "                    bfs(r, c)\n",
    "                    islands += 1\n",
    "\n",
    "        return islands"
   ]
  },
  {
   "cell_type": "code",
   "execution_count": 7,
   "id": "83a4d6e6",
   "metadata": {},
   "outputs": [
    {
     "data": {
      "text/plain": [
       "1"
      ]
     },
     "execution_count": 7,
     "metadata": {},
     "output_type": "execute_result"
    }
   ],
   "source": [
    "sol = Solution()\n",
    "sol.numIslands(grid = [\n",
    "    [\"0\",\"1\",\"1\",\"1\",\"0\"],\n",
    "    [\"0\",\"1\",\"0\",\"1\",\"0\"],\n",
    "    [\"1\",\"1\",\"0\",\"0\",\"0\"],\n",
    "    [\"0\",\"0\",\"0\",\"0\",\"0\"]\n",
    "  ])"
   ]
  },
  {
   "cell_type": "code",
   "execution_count": null,
   "id": "6ec037b1",
   "metadata": {},
   "outputs": [],
   "source": []
  }
 ],
 "metadata": {
  "kernelspec": {
   "display_name": "py312",
   "language": "python",
   "name": "python3"
  },
  "language_info": {
   "codemirror_mode": {
    "name": "ipython",
    "version": 3
   },
   "file_extension": ".py",
   "mimetype": "text/x-python",
   "name": "python",
   "nbconvert_exporter": "python",
   "pygments_lexer": "ipython3",
   "version": "3.12.7"
  }
 },
 "nbformat": 4,
 "nbformat_minor": 5
}
