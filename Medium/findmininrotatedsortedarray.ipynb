{
 "cells": [
  {
   "cell_type": "markdown",
   "id": "fceb1a0d",
   "metadata": {},
   "source": [
    "Find Minimum in Rotated Sorted Array\n",
    "You are given an array of length n which was originally sorted in ascending order. It has now been rotated between 1 and n times. For example, the array nums = [1,2,3,4,5,6] might become:\n",
    "\n",
    "[3,4,5,6,1,2] if it was rotated 4 times.\n",
    "[1,2,3,4,5,6] if it was rotated 6 times.\n",
    "Notice that rotating the array 4 times moves the last four elements of the array to the beginning. Rotating the array 6 times produces the original array.\n",
    "\n",
    "Assuming all elements in the rotated sorted array nums are unique, return the minimum element of this array.\n",
    "\n",
    "A solution that runs in O(n) time is trivial, can you write an algorithm that runs in O(log n) time?\n",
    "\n",
    "Example 1:\n",
    "\n",
    "Input: nums = [3,4,5,6,1,2]\n",
    "\n",
    "Output: 1\n",
    "\n",
    "Example 2:\n",
    "\n",
    "Input: nums = [4,5,0,1,2,3]\n",
    "\n",
    "Output: 0\n",
    "\n",
    "Example 3:\n",
    "\n",
    "Input: nums = [4,5,6,7]\n",
    "\n",
    "Output: 4\n",
    "\n",
    "Constraints:\n",
    "\n",
    "1 <= nums.length <= 1000\n",
    "\n",
    "-1000 <= nums[i] <= 1000"
   ]
  },
  {
   "cell_type": "code",
   "execution_count": null,
   "id": "1f607921",
   "metadata": {},
   "outputs": [],
   "source": [
    "# Time Complexity O(N)\n",
    "# Space Complexity O(1)\n",
    "\n",
    "from typing import List\n",
    "class Solution:\n",
    "    def findMin(self, nums: List[int]) -> int:\n",
    "        return min(nums)"
   ]
  },
  {
   "cell_type": "code",
   "execution_count": 2,
   "id": "cc260856",
   "metadata": {},
   "outputs": [
    {
     "data": {
      "text/plain": [
       "0"
      ]
     },
     "execution_count": 2,
     "metadata": {},
     "output_type": "execute_result"
    }
   ],
   "source": [
    "sol = Solution()\n",
    "sol.findMin([4,5,0,1,2,3])\n"
   ]
  },
  {
   "cell_type": "code",
   "execution_count": null,
   "id": "8c06d12e",
   "metadata": {},
   "outputs": [],
   "source": [
    "# Time Complexity O(logN)\n",
    "# Space Complexity O(1)\n",
    "\n",
    "from typing import List\n",
    "class Solution:\n",
    "    def findMin(self, nums: List[int]) -> int:\n",
    "        res = nums[0]\n",
    "        left, right = 0, len(nums) - 1\n",
    "        while left <= right:\n",
    "            if nums[left] < nums[right]:\n",
    "                res = min(res, nums[left])\n",
    "                break\n",
    "            mid = (left + right) // 2\n",
    "            res = min(res, nums[mid])\n",
    "            if nums[mid] >= nums[left]:\n",
    "                left = mid + 1\n",
    "            else:\n",
    "                right = mid - 1\n",
    "            return res"
   ]
  },
  {
   "cell_type": "code",
   "execution_count": 5,
   "id": "842f8f48",
   "metadata": {},
   "outputs": [
    {
     "data": {
      "text/plain": [
       "0"
      ]
     },
     "execution_count": 5,
     "metadata": {},
     "output_type": "execute_result"
    }
   ],
   "source": [
    "sol = Solution()\n",
    "sol.findMin([4,5,0,1,2,3])\n"
   ]
  },
  {
   "cell_type": "code",
   "execution_count": null,
   "id": "9ff2d757",
   "metadata": {},
   "outputs": [],
   "source": []
  }
 ],
 "metadata": {
  "kernelspec": {
   "display_name": "py312",
   "language": "python",
   "name": "python3"
  },
  "language_info": {
   "codemirror_mode": {
    "name": "ipython",
    "version": 3
   },
   "file_extension": ".py",
   "mimetype": "text/x-python",
   "name": "python",
   "nbconvert_exporter": "python",
   "pygments_lexer": "ipython3",
   "version": "3.12.7"
  }
 },
 "nbformat": 4,
 "nbformat_minor": 5
}
