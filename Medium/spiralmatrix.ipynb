{
 "cells": [
  {
   "cell_type": "markdown",
   "id": "d012a0a5",
   "metadata": {},
   "source": [
    "Spiral Matrix\n",
    "Given an m x n matrix of integers matrix, return a list of all elements within the matrix in spiral order.\n",
    "\n",
    "Example 1:\n",
    "\n",
    "\n",
    "\n",
    "Input: matrix = [[1,2],[3,4]]\n",
    "\n",
    "Output: [1,2,4,3]\n",
    "Example 2:\n",
    "\n",
    "\n",
    "\n",
    "Input: matrix = [[1,2,3],[4,5,6],[7,8,9]]\n",
    "\n",
    "Output: [1,2,3,6,9,8,7,4,5]\n",
    "Example 3:\n",
    "\n",
    "Input: matrix = [[1,2,3,4],[5,6,7,8],[9,10,11,12]]\n",
    "\n",
    "Output: [1,2,3,4,8,12,11,10,9,5,6,7]\n",
    "Constraints:\n",
    "\n",
    "1 <= matrix.length, matrix[i].length <= 10\n",
    "-100 <= matrix[i][j] <= 100"
   ]
  },
  {
   "cell_type": "code",
   "execution_count": null,
   "id": "7b8e28e8",
   "metadata": {},
   "outputs": [],
   "source": [
    "from typing import List\n",
    "class Solution:\n",
    "    def spiralOrder(self, matrix: List[List[int]]) -> List[int]:\n",
    "        res = []\n",
    "        directions = [(0, 1), (1, 0), (0, -1), (-1, 0)]\n",
    "        steps = [len(matrix[0]), len(matrix) - 1]\n",
    "\n",
    "        r, c, d = 0, -1, 0\n",
    "        while steps[d & 1]:\n",
    "            for i in range(steps[d & 1]):\n",
    "                r += directions[d][0]\n",
    "                c += directions[d][1]\n",
    "                res.append(matrix[r][c])\n",
    "            steps[d & 1] -= 1\n",
    "            d += 1\n",
    "            d %= 4\n",
    "        return res"
   ]
  }
 ],
 "metadata": {
  "kernelspec": {
   "display_name": "py312",
   "language": "python",
   "name": "python3"
  },
  "language_info": {
   "codemirror_mode": {
    "name": "ipython",
    "version": 3
   },
   "file_extension": ".py",
   "mimetype": "text/x-python",
   "name": "python",
   "nbconvert_exporter": "python",
   "pygments_lexer": "ipython3",
   "version": "3.12.7"
  }
 },
 "nbformat": 4,
 "nbformat_minor": 5
}
