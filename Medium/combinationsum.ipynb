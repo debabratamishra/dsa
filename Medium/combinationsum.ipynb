{
 "cells": [
  {
   "cell_type": "markdown",
   "id": "05e5f8cc",
   "metadata": {},
   "source": [
    "You are given an array of distinct integers nums and a target integer target. Your task is to return a list of all unique combinations of nums where the chosen numbers sum to target.\n",
    "\n",
    "The same number may be chosen from nums an unlimited number of times. Two combinations are the same if the frequency of each of the chosen numbers is the same, otherwise they are different.\n",
    "\n",
    "You may return the combinations in any order and the order of the numbers in each combination can be in any order.\n",
    "\n",
    "Example 1:\n",
    "\n",
    "Input: \n",
    "nums = [2,5,6,9] \n",
    "target = 9\n",
    "\n",
    "Output: [[2,2,5],[9]]\n",
    "Explanation:\n",
    "2 + 2 + 5 = 9. We use 2 twice, and 5 once.\n",
    "9 = 9. We use 9 once.\n",
    "\n",
    "Example 2:\n",
    "\n",
    "Input: \n",
    "nums = [3,4,5]\n",
    "target = 16\n",
    "\n",
    "Output: [[3,3,3,3,4],[3,3,5,5],[4,4,4,4],[3,4,4,5]]\n",
    "Example 3:\n",
    "\n",
    "Input: \n",
    "nums = [3]\n",
    "target = 5\n",
    "\n",
    "Output: []\n",
    "Constraints:\n",
    "\n",
    "All elements of nums are distinct.\n",
    "- 1 <= nums.length <= 20\n",
    "- 2 <= nums[i] <= 30\n",
    "- 2 <= target <= 30"
   ]
  },
  {
   "cell_type": "code",
   "execution_count": 1,
   "id": "1da8ce6e",
   "metadata": {},
   "outputs": [],
   "source": [
    "# Backtracking\n",
    "# Time Complexity O(2t/m)\n",
    "# Space Complexity O(t/m)\n",
    "#  t is given target and m is minimum vlaue in nums\n",
    "\n",
    "from typing import List\n",
    "\n",
    "class Solution:\n",
    "    def combinationSum(self, nums: List[int], target: int) -> List[List[int]]:\n",
    "        res= []\n",
    "        def dfs(i, cur, total):\n",
    "            if total == target:\n",
    "                res.append(cur.copy())\n",
    "                return\n",
    "            \n",
    "            if i >= len(nums) or total > target:\n",
    "                return\n",
    "            \n",
    "            cur.append(nums[i])\n",
    "            dfs(i, cur, total + nums[i])\n",
    "            cur.pop()\n",
    "            dfs(i+1, cur, total)\n",
    "\n",
    "        dfs(0, [], 0)\n",
    "        return res\n",
    "\n"
   ]
  },
  {
   "cell_type": "code",
   "execution_count": 2,
   "id": "d378d920",
   "metadata": {},
   "outputs": [
    {
     "data": {
      "text/plain": [
       "[[3, 3, 3, 3, 4], [3, 3, 5, 5], [3, 4, 4, 5], [4, 4, 4, 4]]"
      ]
     },
     "execution_count": 2,
     "metadata": {},
     "output_type": "execute_result"
    }
   ],
   "source": [
    "sol = Solution()\n",
    "sol.combinationSum([3,4,5], 16)"
   ]
  },
  {
   "cell_type": "code",
   "execution_count": null,
   "id": "28256a9b",
   "metadata": {},
   "outputs": [],
   "source": []
  }
 ],
 "metadata": {
  "kernelspec": {
   "display_name": "py312",
   "language": "python",
   "name": "python3"
  },
  "language_info": {
   "codemirror_mode": {
    "name": "ipython",
    "version": 3
   },
   "file_extension": ".py",
   "mimetype": "text/x-python",
   "name": "python",
   "nbconvert_exporter": "python",
   "pygments_lexer": "ipython3",
   "version": "3.12.7"
  }
 },
 "nbformat": 4,
 "nbformat_minor": 5
}
