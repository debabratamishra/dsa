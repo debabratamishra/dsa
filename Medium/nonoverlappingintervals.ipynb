{
 "cells": [
  {
   "cell_type": "markdown",
   "id": "74d59115",
   "metadata": {},
   "source": [
    "Non-overlapping Intervals\n",
    "Given an array of intervals intervals where intervals[i] = [start_i, end_i], return the minimum number of intervals you need to remove to make the rest of the intervals non-overlapping.\n",
    "\n",
    "Note: Intervals are non-overlapping even if they have a common point. For example, [1, 3] and [2, 4] are overlapping, but [1, 2] and [2, 3] are non-overlapping.\n",
    "\n",
    "Example 1:\n",
    "\n",
    "Input: intervals = [[1,2],[2,4],[1,4]]\n",
    "\n",
    "Output: 1\n",
    "Explanation: After [1,4] is removed, the rest of the intervals are non-overlapping.\n",
    "\n",
    "Example 2:\n",
    "\n",
    "Input: intervals = [[1,2],[2,4]]\n",
    "\n",
    "Output: 0\n",
    "Constraints:\n",
    "\n",
    "1 <= intervals.length <= 1000\n",
    "intervals[i].length == 2\n",
    "-50000 <= starti < endi <= 50000"
   ]
  },
  {
   "cell_type": "code",
   "execution_count": null,
   "id": "5d3248bf",
   "metadata": {},
   "outputs": [],
   "source": [
    "# Recursion\n",
    "# Time complexity :  O(2^N)\n",
    "# Space Complexity : O(N)\n",
    "\n",
    "from typing import List\n",
    "\n",
    "class Solution:\n",
    "    def eraseOverlapIntervals(self, intervals: List[List[int]]) -> int:\n",
    "        intervals.sort()\n",
    "        \n",
    "        def dfs(i, prev):\n",
    "            if i == len(intervals):\n",
    "                return 0\n",
    "            res = dfs(i + 1, prev)\n",
    "            if prev == -1 or intervals[prev][1] <= intervals[i][0]:\n",
    "                res = max(res, 1 + dfs(i + 1, i))\n",
    "            return res\n",
    "        \n",
    "        return len(intervals) - dfs(0, -1)"
   ]
  },
  {
   "cell_type": "code",
   "execution_count": 3,
   "id": "fad9907b",
   "metadata": {},
   "outputs": [
    {
     "data": {
      "text/plain": [
       "1"
      ]
     },
     "execution_count": 3,
     "metadata": {},
     "output_type": "execute_result"
    }
   ],
   "source": [
    "sol = Solution()\n",
    "sol.eraseOverlapIntervals([[1,2],[2,4],[1,4]])"
   ]
  },
  {
   "cell_type": "code",
   "execution_count": null,
   "id": "32f69b36",
   "metadata": {},
   "outputs": [],
   "source": [
    "# Top down DP (Greedy + Memoized DFS)\n",
    "# Time Complexity\n",
    "# Space Complexity\n",
    "\n",
    "class Solution:\n",
    "    def eraseOverlapIntervals(self, intervals: List[List[int]]) -> int:\n",
    "        intervals.sort(key = lambda x: x[1]) # Sorting by end element in sublist\n",
    "        n = len(intervals)\n",
    "        memo = {} # Initializing set for storing memoized dfs results\n",
    "\n",
    "        def dfs(i): #Find max number of non-overlapping intervals\n",
    "            if i in memo:\n",
    "                return memo[i]\n",
    "\n",
    "            res = 1\n",
    "            # Try Every Next Interval That Doesn’t Overlap\n",
    "            for j in range(i + 1, n):\n",
    "                if intervals[i][1] <= intervals[j][0]:\n",
    "                    res = max(res, 1 + dfs(j))\n",
    "            memo[i] = res\n",
    "            return res\n",
    "\n",
    "        return n - dfs(0)"
   ]
  },
  {
   "cell_type": "code",
   "execution_count": 4,
   "id": "321135e3",
   "metadata": {},
   "outputs": [
    {
     "data": {
      "text/plain": [
       "1"
      ]
     },
     "execution_count": 4,
     "metadata": {},
     "output_type": "execute_result"
    }
   ],
   "source": [
    "sol = Solution()\n",
    "sol.eraseOverlapIntervals([[1,2],[2,4],[1,4]])"
   ]
  },
  {
   "cell_type": "code",
   "execution_count": 5,
   "id": "09fc07fe",
   "metadata": {},
   "outputs": [],
   "source": [
    "# Greedy Search\n",
    "# Time Complexity : O(N log N)\n",
    "# Space Complexity : O(1) or O(N) depending on sorting algo\n",
    "\n",
    "class Solution:\n",
    "    def eraseOverlapIntervals(self, intervals: List[List[int]]) -> int:\n",
    "        intervals.sort()\n",
    "        res = 0\n",
    "        prevEnd = intervals[0][1] #Tracks the end element of last non-overlapping interval\n",
    "        \n",
    "        for start, end in intervals[1:]:\n",
    "            if start >= prevEnd:\n",
    "                prevEnd = end\n",
    "            else:\n",
    "                res += 1\n",
    "                prevEnd = min(end, prevEnd)\n",
    "        return res"
   ]
  },
  {
   "cell_type": "code",
   "execution_count": null,
   "id": "fbe3326b",
   "metadata": {},
   "outputs": [
    {
     "data": {
      "text/plain": [
       "1"
      ]
     },
     "execution_count": 6,
     "metadata": {},
     "output_type": "execute_result"
    }
   ],
   "source": [
    "sol = Solution()\n",
    "sol.eraseOverlapIntervals([[1,2],[2,4],[1,4]])"
   ]
  },
  {
   "cell_type": "code",
   "execution_count": null,
   "id": "8a894351",
   "metadata": {},
   "outputs": [],
   "source": []
  }
 ],
 "metadata": {
  "kernelspec": {
   "display_name": "py312",
   "language": "python",
   "name": "python3"
  },
  "language_info": {
   "codemirror_mode": {
    "name": "ipython",
    "version": 3
   },
   "file_extension": ".py",
   "mimetype": "text/x-python",
   "name": "python",
   "nbconvert_exporter": "python",
   "pygments_lexer": "ipython3",
   "version": "3.12.7"
  }
 },
 "nbformat": 4,
 "nbformat_minor": 5
}
