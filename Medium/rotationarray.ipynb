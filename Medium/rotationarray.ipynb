{
 "cells": [
  {
   "cell_type": "markdown",
   "metadata": {},
   "source": [
    "Given an integer array nums, rotate the array to the right by k steps, where k is non-negative.\n",
    "\n",
    " \n",
    "\n",
    "Example 1:\n",
    "\n",
    "Input: nums = [1,2,3,4,5,6,7], k = 3\n",
    "Output: [5,6,7,1,2,3,4]\n",
    "Explanation:\n",
    "rotate 1 steps to the right: [7,1,2,3,4,5,6]\n",
    "rotate 2 steps to the right: [6,7,1,2,3,4,5]\n",
    "rotate 3 steps to the right: [5,6,7,1,2,3,4]\n",
    "Example 2:\n",
    "\n",
    "Input: nums = [-1,-100,3,99], k = 2\n",
    "Output: [3,99,-1,-100]\n",
    "Explanation: \n",
    "rotate 1 steps to the right: [99,-1,-100,3]\n",
    "rotate 2 steps to the right: [3,99,-1,-100]\n",
    " \n",
    "\n",
    "Constraints:\n",
    "\n",
    "1 <= nums.length <= 105\n",
    "-231 <= nums[i] <= 231 - 1\n",
    "0 <= k <= 105\n",
    " \n",
    "\n",
    "Follow up:\n",
    "\n",
    "Try to come up with as many solutions as you can. There are at least three different ways to solve this problem.\n",
    "Could you do it in-place with O(1) extra space?"
   ]
  },
  {
   "cell_type": "code",
   "execution_count": null,
   "metadata": {},
   "outputs": [],
   "source": [
    "# you can write to stdout for debugging purposes, e.g.\n",
    "# print(\"this is a debug message\")\n",
    "\n",
    "# Time Complexity O(N)\n",
    "# Space Complexity O(N)\n",
    "\n",
    "def solution(A, K):\n",
    "    # Implement your solution here\n",
    "    n = len(A)\n",
    "    k = K % n\n",
    "    res=[]\n",
    "    for i in range(n):\n",
    "        if (i < k):\n",
    "            res.append(A[n + i - k])\n",
    "        else:\n",
    "            res.append(A[i - k])\n",
    "    return res\n",
    "\n"
   ]
  },
  {
   "cell_type": "code",
   "execution_count": 2,
   "metadata": {},
   "outputs": [
    {
     "data": {
      "text/plain": [
       "[1, 2, 3, 4]"
      ]
     },
     "execution_count": 2,
     "metadata": {},
     "output_type": "execute_result"
    }
   ],
   "source": [
    "solution([1,2,3,4],4)"
   ]
  },
  {
   "cell_type": "code",
   "execution_count": 8,
   "metadata": {},
   "outputs": [],
   "source": [
    "# Time Complexity O(N)\n",
    "# Space Complexity O(1)\n",
    "\n",
    "def rotate(nums, k):\n",
    "    n = len(nums)\n",
    "    k = k % n  # In case k > n\n",
    "\n",
    "    def reverse(start, end):\n",
    "        while start < end:\n",
    "            nums[start], nums[end] = nums[end], nums[start]\n",
    "            start += 1\n",
    "            end -= 1\n",
    "\n",
    "    # Step 1: Reverse the whole array\n",
    "    reverse(0, n - 1)\n",
    "    # Step 2: Reverse the first k elements\n",
    "    reverse(0, k - 1)\n",
    "    # Step 3: Reverse the rest\n",
    "    reverse(k, n - 1)\n",
    "    return nums\n"
   ]
  },
  {
   "cell_type": "code",
   "execution_count": 10,
   "metadata": {},
   "outputs": [
    {
     "data": {
      "text/plain": [
       "[1, 2, 3, 4]"
      ]
     },
     "execution_count": 10,
     "metadata": {},
     "output_type": "execute_result"
    }
   ],
   "source": [
    "rotate([1,2,3,4],4)"
   ]
  },
  {
   "cell_type": "code",
   "execution_count": null,
   "metadata": {},
   "outputs": [],
   "source": []
  }
 ],
 "metadata": {
  "kernelspec": {
   "display_name": "py312",
   "language": "python",
   "name": "python3"
  },
  "language_info": {
   "codemirror_mode": {
    "name": "ipython",
    "version": 3
   },
   "file_extension": ".py",
   "mimetype": "text/x-python",
   "name": "python",
   "nbconvert_exporter": "python",
   "pygments_lexer": "ipython3",
   "version": "3.12.7"
  }
 },
 "nbformat": 4,
 "nbformat_minor": 2
}
