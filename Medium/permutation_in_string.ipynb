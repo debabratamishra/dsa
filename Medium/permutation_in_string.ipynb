{
 "cells": [
  {
   "cell_type": "markdown",
   "metadata": {},
   "source": [
    "Permutation in String\n",
    "You are given two strings s1 and s2.\n",
    "\n",
    "Return true if s2 contains a permutation of s1, or false otherwise. That means if a permutation of s1 exists as a substring of s2, then return true.\n",
    "\n",
    "Both strings only contain lowercase letters.\n",
    "\n",
    "Example 1:\n",
    "\n",
    "Input: s1 = \"abc\", s2 = \"lecabee\"\n",
    "\n",
    "Output: true\n",
    "Explanation: The substring \"cab\" is a permutation of \"abc\" and is present in \"lecabee\".\n",
    "\n",
    "Example 2:\n",
    "\n",
    "Input: s1 = \"abc\", s2 = \"lecaabee\"\n",
    "\n",
    "Output: false\n",
    "Constraints:\n",
    "\n",
    "1 <= s1.length, s2.length <= 1000"
   ]
  },
  {
   "cell_type": "code",
   "execution_count": 32,
   "metadata": {},
   "outputs": [],
   "source": [
    "# Brute Force\n",
    "# Time Complexity O(n^3 logn)\n",
    "# Space Complexity O(1)\n",
    "\n",
    "class Solution:\n",
    "    def checkInclusion(self, s1: str, s2: str) -> bool:\n",
    "        s1 = sorted(s1)\n",
    "        for i in range(len(s2)):\n",
    "            for j in range(i, len(s2)):\n",
    "                substr = s2[i:j+1]\n",
    "                substr = sorted(substr)\n",
    "                if substr == s1:\n",
    "                    return True\n",
    "        return False\n",
    "                  "
   ]
  },
  {
   "cell_type": "code",
   "execution_count": 33,
   "metadata": {},
   "outputs": [
    {
     "data": {
      "text/plain": [
       "True"
      ]
     },
     "execution_count": 33,
     "metadata": {},
     "output_type": "execute_result"
    }
   ],
   "source": [
    "sol = Solution()\n",
    "# sol.checkInclusion(s1 = \"abc\", s2 = \"lecabee\")\n",
    "sol.checkInclusion(s1 = \"abc\", s2 = \"lecabeeaeeb\")"
   ]
  },
  {
   "cell_type": "code",
   "execution_count": null,
   "metadata": {},
   "outputs": [],
   "source": [
    "# Hash Table\n",
    "# Time Complexity - O(n * m)\n",
    "# Space Complexity - O(1)\n",
    "from collections import Counter\n",
    "\n",
    "class Solution:\n",
    "    def checkInclusion(self, s1: str, s2: str) -> bool:\n",
    "        count1 = Counter(s1)\n",
    "        need = len(count1)\n",
    "\n",
    "        for i in range(len(s2)):\n",
    "            count2, cur = {}, 0\n",
    "            for j in range(i, len(s2)):\n",
    "                count2[s2[j]] = 1 + count2.get(s2[j], 0)\n",
    "                if count1.get(s2[j], 0) < count2[s2[j]]:\n",
    "                    break\n",
    "                if count1.get(s2[j], 0) == count2[s2[j]]:\n",
    "                    cur += 1\n",
    "                if cur == need:\n",
    "                    return True\n",
    "        return False"
   ]
  },
  {
   "cell_type": "code",
   "execution_count": 42,
   "metadata": {},
   "outputs": [
    {
     "data": {
      "text/plain": [
       "True"
      ]
     },
     "execution_count": 42,
     "metadata": {},
     "output_type": "execute_result"
    }
   ],
   "source": [
    "sol = Solution()\n",
    "sol.checkInclusion(s1 = \"abc\", s2 = \"clecabeeab\")"
   ]
  },
  {
   "cell_type": "code",
   "execution_count": 47,
   "metadata": {},
   "outputs": [],
   "source": [
    "# Sliding Window\n",
    "# Time Complexity - O(N)\n",
    "#  Space Complexity - O(1)\n",
    "\n",
    "class Solution:\n",
    "    def checkInclusion(self, s1: str, s2: str) -> bool:\n",
    "        if len(s1) > len(s2):\n",
    "            return False\n",
    "        \n",
    "        s1Count, s2Count = [0] * 26, [0] * 26\n",
    "        for i in range(len(s1)):\n",
    "            s1Count[ord(s1[i]) - ord('a')] += 1\n",
    "            s2Count[ord(s2[i]) - ord('a')] += 1\n",
    "        \n",
    "        matches = 0\n",
    "        for i in range(26):\n",
    "            matches += (1 if s1Count[i] == s2Count[i] else 0)\n",
    "        \n",
    "        l = 0\n",
    "        for r in range(len(s1), len(s2)):\n",
    "            if matches == 26:\n",
    "                return True\n",
    "            \n",
    "            index = ord(s2[r]) - ord('a')\n",
    "            s2Count[index] += 1\n",
    "            if s1Count[index] == s2Count[index]:\n",
    "                matches += 1\n",
    "            elif s1Count[index] + 1 == s2Count[index]:\n",
    "                matches -= 1\n",
    "\n",
    "            index = ord(s2[l]) - ord('a')\n",
    "            s2Count[index] -= 1\n",
    "            if s1Count[index] == s2Count[index]:\n",
    "                matches += 1\n",
    "            elif s1Count[index] - 1 == s2Count[index]:\n",
    "                matches -= 1\n",
    "            l += 1\n",
    "        return matches == 26"
   ]
  },
  {
   "cell_type": "code",
   "execution_count": 48,
   "metadata": {},
   "outputs": [
    {
     "data": {
      "text/plain": [
       "True"
      ]
     },
     "execution_count": 48,
     "metadata": {},
     "output_type": "execute_result"
    }
   ],
   "source": [
    "sol = Solution()\n",
    "sol.checkInclusion(s1 = \"abc\", s2 = \"clecabeeab\")"
   ]
  },
  {
   "cell_type": "code",
   "execution_count": null,
   "metadata": {},
   "outputs": [],
   "source": []
  }
 ],
 "metadata": {
  "kernelspec": {
   "display_name": "py312",
   "language": "python",
   "name": "python3"
  },
  "language_info": {
   "codemirror_mode": {
    "name": "ipython",
    "version": 3
   },
   "file_extension": ".py",
   "mimetype": "text/x-python",
   "name": "python",
   "nbconvert_exporter": "python",
   "pygments_lexer": "ipython3",
   "version": "3.12.7"
  }
 },
 "nbformat": 4,
 "nbformat_minor": 2
}
