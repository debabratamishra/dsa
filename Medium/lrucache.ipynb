{
 "cells": [
  {
   "cell_type": "markdown",
   "id": "1f46c2bb",
   "metadata": {},
   "source": [
    "LRU Cache\n",
    "Implement the Least Recently Used (LRU) cache class LRUCache. The class should support the following operations\n",
    "\n",
    "LRUCache(int capacity) Initialize the LRU cache of size capacity.\n",
    "int get(int key) Return the value corresponding to the key if the key exists, otherwise return -1.\n",
    "void put(int key, int value) Update the value of the key if the key exists. Otherwise, add the key-value pair to the cache. If the introduction of the new pair causes the cache to exceed its capacity, remove the least recently used key.\n",
    "A key is considered used if a get or a put operation is called on it.\n",
    "\n",
    "Ensure that get and put each run in O(1) average time complexity.\n",
    "\n",
    "Example 1:\n",
    "\n",
    "Input:\n",
    "[\"LRUCache\", [2], \"put\", [1, 10],  \"get\", [1], \"put\", [2, 20], \"put\", [3, 30], \"get\", [2], \"get\", [1]]\n",
    "\n",
    "Output:\n",
    "[null, null, 10, null, null, 20, -1]\n",
    "\n",
    "Explanation:\n",
    "LRUCache lRUCache = new LRUCache(2);\n",
    "lRUCache.put(1, 10);  // cache: {1=10}\n",
    "lRUCache.get(1);      // return 10\n",
    "lRUCache.put(2, 20);  // cache: {1=10, 2=20}\n",
    "lRUCache.put(3, 30);  // cache: {2=20, 3=30}, key=1 was evicted\n",
    "lRUCache.get(2);      // returns 20 \n",
    "lRUCache.get(1);      // return -1 (not found)\n",
    "Constraints:\n",
    "\n",
    "1 <= capacity <= 100\n",
    "0 <= key <= 1000\n",
    "0 <= value <= 1000"
   ]
  },
  {
   "cell_type": "code",
   "execution_count": null,
   "id": "d886125a",
   "metadata": {},
   "outputs": [],
   "source": [
    "# Time Complexity : O(N)\n",
    "# Space Complexity : O(N)\n",
    "\n",
    "class LRUCache:\n",
    "\n",
    "    def __init__(self, capacity: int):\n",
    "        self.cache = [] #contain [[int, int],[int, int]]\n",
    "        self.capacity = capacity\n",
    "\n",
    "    def get(self, key: int) -> int:\n",
    "        for i in range(len(self.cache)):\n",
    "            if self.cache[i][0] == key:\n",
    "                temp = self.cache.pop(i)\n",
    "                self.cache.append(temp)\n",
    "                return temp[1]\n",
    "        return -1\n",
    "\n",
    "    def put(self, key: int, value: int) -> None:\n",
    "        for i in range(len(self.cache)):\n",
    "            # Check if key exists; if yes, then update the value and move it to the end of the list\n",
    "            if self.cache[i][0] == key:\n",
    "                temp = self.cache.pop(i)\n",
    "                temp[1] = value\n",
    "                self.cache.append(temp)\n",
    "                return\n",
    "        if self.capacity == len(self.cache):\n",
    "            self.cache.pop(0)\n",
    "        \n",
    "        self.cache.append([key, value])\n",
    "        \n"
   ]
  },
  {
   "cell_type": "code",
   "execution_count": 9,
   "id": "8da974a0",
   "metadata": {},
   "outputs": [
    {
     "data": {
      "text/plain": [
       "-1"
      ]
     },
     "execution_count": 9,
     "metadata": {},
     "output_type": "execute_result"
    }
   ],
   "source": [
    "lRUCache = LRUCache(2)\n",
    "lRUCache.put(1, 10)  #// cache: {1=10}\n",
    "lRUCache.get(1)      #// return 10\n",
    "lRUCache.put(2, 20)  #// cache: {1=10, 2=20}\n",
    "lRUCache.put(3, 30)  #// cache: {2=20, 3=30}, key=1 was evicted\n",
    "lRUCache.get(2)      #// returns 20 \n",
    "lRUCache.get(1)      #// return -1 (not found)"
   ]
  },
  {
   "cell_type": "code",
   "execution_count": null,
   "id": "0508ca68",
   "metadata": {},
   "outputs": [],
   "source": [
    "# Time Complexity : O(1)\n",
    "# Space Complexity : O(N)\n",
    "from collections import OrderedDict #preserves insertion order \n",
    "class LRUCache:\n",
    "\n",
    "    def __init__(self, capacity: int):\n",
    "        self.cache = OrderedDict()\n",
    "        self.cap = capacity\n",
    "\n",
    "    def get(self, key: int) -> int:\n",
    "        if key not in self.cache:\n",
    "            return -1\n",
    "        self.cache.move_to_end(key) # Move it to the end (move_to_end(key)), making it most recently used.\n",
    "        return self.cache[key]\n",
    "\n",
    "    def put(self, key: int, value: int) -> None:\n",
    "        # Check if key exists; if yes move it to end and update, else just add the key-value pair to the end\n",
    "        if key in self.cache:\n",
    "            self.cache.move_to_end(key)\n",
    "        self.cache[key] = value\n",
    "\n",
    "        if len(self.cache) > self.cap:\n",
    "            self.cache.popitem(last=False)\n",
    "        \n",
    "        \n"
   ]
  },
  {
   "cell_type": "code",
   "execution_count": 23,
   "id": "06a2b2a7",
   "metadata": {},
   "outputs": [
    {
     "data": {
      "text/plain": [
       "-1"
      ]
     },
     "execution_count": 23,
     "metadata": {},
     "output_type": "execute_result"
    }
   ],
   "source": [
    "lRUCache = LRUCache(2)\n",
    "lRUCache.put(1, 10)  #// cache: {1=10}\n",
    "lRUCache.get(1)      #// return 10\n",
    "lRUCache.put(2, 20)  #// cache: {1=10, 2=20}\n",
    "lRUCache.put(3, 30)  #// cache: {2=20, 3=30}, key=1 was evicted\n",
    "lRUCache.get(2)      #// returns 20 \n",
    "lRUCache.get(1)      #// return -1 (not found)"
   ]
  },
  {
   "cell_type": "code",
   "execution_count": null,
   "id": "8da1be46",
   "metadata": {},
   "outputs": [],
   "source": []
  }
 ],
 "metadata": {
  "kernelspec": {
   "display_name": "py312",
   "language": "python",
   "name": "python3"
  },
  "language_info": {
   "codemirror_mode": {
    "name": "ipython",
    "version": 3
   },
   "file_extension": ".py",
   "mimetype": "text/x-python",
   "name": "python",
   "nbconvert_exporter": "python",
   "pygments_lexer": "ipython3",
   "version": "3.12.7"
  }
 },
 "nbformat": 4,
 "nbformat_minor": 5
}
