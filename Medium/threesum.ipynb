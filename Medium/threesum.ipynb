{
 "cells": [
  {
   "cell_type": "markdown",
   "id": "2d91bfd6",
   "metadata": {},
   "source": [
    "Given an integer array nums, return all the triplets [nums[i], nums[j], nums[k]] such that i != j, i != k, and j != k, and nums[i] + nums[j] + nums[k] == 0.\n",
    "\n",
    "Notice that the solution set must not contain duplicate triplets.\n",
    "\n",
    " \n",
    "\n",
    "Example 1:\n",
    "\n",
    "Input: nums = [-1,0,1,2,-1,-4]\n",
    "Output: [[-1,-1,2],[-1,0,1]]\n",
    "Explanation: \n",
    "nums[0] + nums[1] + nums[2] = (-1) + 0 + 1 = 0.\n",
    "nums[1] + nums[2] + nums[4] = 0 + 1 + (-1) = 0.\n",
    "nums[0] + nums[3] + nums[4] = (-1) + 2 + (-1) = 0.\n",
    "The distinct triplets are [-1,0,1] and [-1,-1,2].\n",
    "Notice that the order of the output and the order of the triplets does not matter.\n",
    "\n",
    "Example 2:\n",
    "\n",
    "Input: nums = [0,1,1]\n",
    "Output: []\n",
    "Explanation: The only possible triplet does not sum up to 0.\n",
    "\n",
    "Example 3:\n",
    "\n",
    "Input: nums = [0,0,0]\n",
    "Output: [[0,0,0]]\n",
    "Explanation: The only possible triplet sums up to 0.\n",
    " \n",
    "\n",
    "Constraints:\n",
    "\n",
    "3 <= nums.length <= 3000\n",
    "-105 <= nums[i] <= 105"
   ]
  },
  {
   "cell_type": "code",
   "execution_count": null,
   "id": "c0bff114",
   "metadata": {},
   "outputs": [],
   "source": [
    "# Time Complexity O(N^2)\n",
    "# Space Complexity O(1)\n",
    "\n",
    "from typing import List\n",
    "class Solution:\n",
    "    def threeSum(self, nums: List[int]) -> List[List[int]]:\n",
    "        #Sorting the array to easily skip duplicates and efficiently find pairs\n",
    "        nums.sort()\n",
    "        result = []\n",
    "        n = len(nums)\n",
    "        \n",
    "        # fixing the first elemnet of triplet and need three elements in sublist\n",
    "        for i in range(n - 2):\n",
    "            # Skip duplicates\n",
    "            if i > 0 and nums[i] == nums[i - 1]:\n",
    "                continue\n",
    "            \n",
    "            # Establish two pointers\n",
    "            left, right = i + 1, n - 1\n",
    "            # Pointers should not cross each others\n",
    "            while left < right:\n",
    "                total = nums[i] + nums[left] + nums[right]\n",
    "                # Move the pointers based on the sum\n",
    "                if total < 0:\n",
    "                    left += 1\n",
    "                elif total > 0:\n",
    "                    right -= 1\n",
    "                else:\n",
    "                    result.append([nums[i], nums[left], nums[right]])\n",
    "                    #Ensure unique sublists\n",
    "                    while left < right and nums[left] == nums[left + 1]:\n",
    "                        left += 1\n",
    "                    while left < right and nums[right] == nums[right - 1]:\n",
    "                        right -= 1\n",
    "                    left += 1\n",
    "                    right -= 1\n",
    "        \n",
    "        return result"
   ]
  },
  {
   "cell_type": "code",
   "execution_count": null,
   "id": "e3bc64c6",
   "metadata": {},
   "outputs": [
    {
     "data": {
      "text/plain": [
       "[[-1, -1, 2], [-1, 0, 1]]"
      ]
     },
     "execution_count": 2,
     "metadata": {},
     "output_type": "execute_result"
    }
   ],
   "source": [
    "sol = Solution()\n",
    "sol.threeSum([-1, 0, 1, 2, -1, -4])"
   ]
  },
  {
   "cell_type": "code",
   "execution_count": 4,
   "id": "063f025d",
   "metadata": {},
   "outputs": [],
   "source": [
    "# Time Complexity O(N^2)\n",
    "# Space Complexity O(k) due to usage of set\n",
    "\n",
    "from typing import List\n",
    "\n",
    "class Solution:\n",
    "    def threeSum(self, nums: List[int]) -> List[List[int]]:\n",
    "        nums.sort()\n",
    "        result = set()\n",
    "        n = len(nums)\n",
    "\n",
    "        for i in range(n - 2):\n",
    "            left, right = i + 1, n - 1\n",
    "            while left < right:\n",
    "                total = nums[i] + nums[left] + nums[right]\n",
    "                if total == 0:\n",
    "                    triplet = (nums[i], nums[left], nums[right])\n",
    "                    result.add(triplet)\n",
    "                    left += 1\n",
    "                    right -= 1\n",
    "                elif total < 0:\n",
    "                    left += 1\n",
    "                else:\n",
    "                    right -= 1\n",
    "\n",
    "        return [list(triplet) for triplet in result]\n"
   ]
  },
  {
   "cell_type": "code",
   "execution_count": null,
   "id": "9c9a821b",
   "metadata": {},
   "outputs": [
    {
     "data": {
      "text/plain": [
       "[[-1, 0, 1], [-1, -1, 2]]"
      ]
     },
     "execution_count": 5,
     "metadata": {},
     "output_type": "execute_result"
    }
   ],
   "source": [
    "sol = Solution()\n",
    "sol.threeSum([-1, 0, 1, 2, -1, -4])"
   ]
  },
  {
   "cell_type": "code",
   "execution_count": null,
   "id": "0566066b",
   "metadata": {},
   "outputs": [],
   "source": []
  }
 ],
 "metadata": {
  "kernelspec": {
   "display_name": "py312",
   "language": "python",
   "name": "python3"
  },
  "language_info": {
   "codemirror_mode": {
    "name": "ipython",
    "version": 3
   },
   "file_extension": ".py",
   "mimetype": "text/x-python",
   "name": "python",
   "nbconvert_exporter": "python",
   "pygments_lexer": "ipython3",
   "version": "3.12.7"
  }
 },
 "nbformat": 4,
 "nbformat_minor": 5
}
