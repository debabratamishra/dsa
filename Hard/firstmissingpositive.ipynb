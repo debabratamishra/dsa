{
 "cells": [
  {
   "cell_type": "markdown",
   "metadata": {},
   "source": [
    "Given an unsorted integer array nums. Return the smallest positive integer that is not present in nums.\n",
    "\n",
    "You must implement an algorithm that runs in O(n) time and uses O(1) auxiliary space.\n",
    "\n",
    "\n",
    "Example 1:\n",
    "\n",
    "Input: nums = [1,2,0]\n",
    "Output: 3\n",
    "Explanation: The numbers in the range [1,2] are all in the array.\n",
    "Example 2:\n",
    "\n",
    "Input: nums = [3,4,-1,1]\n",
    "Output: 2\n",
    "Explanation: 1 is in the array but 2 is missing.\n",
    "Example 3:\n",
    "\n",
    "Input: nums = [7,8,9,11,12]\n",
    "Output: 1\n",
    "Explanation: The smallest positive integer 1 is missing.\n",
    " \n",
    "\n",
    "Constraints:\n",
    "\n",
    "1 <= nums.length <= 105\n",
    "-231 <= nums[i] <= 231 - 1"
   ]
  },
  {
   "cell_type": "code",
   "execution_count": null,
   "metadata": {},
   "outputs": [],
   "source": [
    "# Time Complexity O(nlogn)\n",
    "# Space Complexity O(N)\n",
    "\n",
    "from typing import *\n",
    "\n",
    "class Solution:\n",
    "    def firstMissingPositive(self, nums: List[int]) -> int:\n",
    "        nums.sort()\n",
    "        res = 1\n",
    "\n",
    "        for each_num in nums:\n",
    "\n",
    "            if each_num == res:\n",
    "                res= res+1\n",
    "            \n",
    "            if each_num > res:\n",
    "                break\n",
    "        \n",
    "        return res"
   ]
  },
  {
   "cell_type": "code",
   "execution_count": 2,
   "metadata": {},
   "outputs": [
    {
     "data": {
      "text/plain": [
       "3"
      ]
     },
     "execution_count": 2,
     "metadata": {},
     "output_type": "execute_result"
    }
   ],
   "source": [
    "sol = Solution()\n",
    "sol.firstMissingPositive([1,2,0])"
   ]
  },
  {
   "cell_type": "code",
   "execution_count": null,
   "metadata": {},
   "outputs": [],
   "source": [
    "#  Using Cycle Sort\n",
    "#  Time Complexity O(N)\n",
    "#  Space Complexity O(1)\n",
    "\n",
    "from typing import *\n",
    "\n",
    "class Solution:\n",
    "    def firstMissingPositive(self, arr: List[int]) -> int:\n",
    "        n = len(arr)\n",
    "        # Step1 is sorting Placing the values as per the idx\n",
    "        for i in range(n):\n",
    "            while 1 <= arr[i] <=n and arr[i] != arr[arr[i] - 1]:\n",
    "                correct_idx = arr[i] - 1\n",
    "                arr[i], arr[correct_idx] = arr[correct_idx], arr[i]\n",
    "        \n",
    "        # Step 2 Search the discontinuity\n",
    "        for i in range(n):\n",
    "            if arr[i] != i + 1:\n",
    "                return i + 1\n",
    "        \n",
    "        # If all numbers are present then n+1\n",
    "        return n + 1\n",
    "        \n"
   ]
  },
  {
   "cell_type": "code",
   "execution_count": 17,
   "metadata": {},
   "outputs": [
    {
     "data": {
      "text/plain": [
       "2"
      ]
     },
     "execution_count": 17,
     "metadata": {},
     "output_type": "execute_result"
    }
   ],
   "source": [
    "sol = Solution()\n",
    "# sol.firstMissingPositive([1,2,0])\n",
    "sol.firstMissingPositive([1, 3])"
   ]
  },
  {
   "cell_type": "code",
   "execution_count": null,
   "metadata": {},
   "outputs": [],
   "source": []
  }
 ],
 "metadata": {
  "kernelspec": {
   "display_name": "py312",
   "language": "python",
   "name": "python3"
  },
  "language_info": {
   "codemirror_mode": {
    "name": "ipython",
    "version": 3
   },
   "file_extension": ".py",
   "mimetype": "text/x-python",
   "name": "python",
   "nbconvert_exporter": "python",
   "pygments_lexer": "ipython3",
   "version": "3.12.7"
  }
 },
 "nbformat": 4,
 "nbformat_minor": 2
}
