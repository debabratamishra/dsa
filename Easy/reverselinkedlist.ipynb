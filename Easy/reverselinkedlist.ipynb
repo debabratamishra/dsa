{
 "cells": [
  {
   "cell_type": "markdown",
   "id": "0b002a17",
   "metadata": {},
   "source": [
    "Given the beginning of a singly linked list head, reverse the list, and return the new beginning of the list.\n",
    "\n",
    "Example 1:\n",
    "\n",
    "Input: head = [0,1,2,3]\n",
    "\n",
    "Output: [3,2,1,0]\n",
    "Example 2:\n",
    "\n",
    "Input: head = []\n",
    "\n",
    "Output: []\n",
    "Constraints:\n",
    "\n",
    "0 <= The length of the list <= 1000.\n",
    "-1000 <= Node.val <= 1000"
   ]
  },
  {
   "cell_type": "code",
   "execution_count": null,
   "id": "f7d9c9b1",
   "metadata": {},
   "outputs": [],
   "source": [
    "# Time Complexity: O(N)\n",
    "# Space Complexity : O(1)\n",
    "from typing import Optional\n",
    "# Definition for singly-linked list.\n",
    "class ListNode:\n",
    "    def __init__(self, val=0, next=None):\n",
    "        self.val = val\n",
    "        self.next = next\n",
    "\n",
    "def print_list(head):\n",
    "    while head:\n",
    "        print(head.val, end=\" -> \")\n",
    "        head = head.next\n",
    "    print(\"None\")\n",
    "\n",
    "class Solution:\n",
    "    def reverseList(self, head: Optional[ListNode]) -> Optional[ListNode]:\n",
    "        prev, curr = None, head\n",
    "\n",
    "        while curr:\n",
    "            temp = curr.next\n",
    "            curr.next = prev\n",
    "            prev = curr\n",
    "            curr = temp\n",
    "        return prev"
   ]
  },
  {
   "cell_type": "code",
   "execution_count": null,
   "id": "c6750df7",
   "metadata": {},
   "outputs": [],
   "source": [
    "# linked list : 0 -> 1 -> 2 -> 3\n",
    "\n",
    "node3 = ListNode(3)\n",
    "node2 = ListNode(2, node3)\n",
    "node1 = ListNode(1, node2)\n",
    "head = ListNode(0,node1)\n",
    "\n",
    "print(\"Original LinkedList\")\n",
    "print_list(head)\n",
    "\n",
    "sol = Solution()\n",
    "reversed = sol.reverseList(head)\n",
    "\n",
    "print(\"Now Reversed :\")\n",
    "print_list(reversed)"
   ]
  },
  {
   "cell_type": "code",
   "execution_count": null,
   "id": "a059482e",
   "metadata": {},
   "outputs": [],
   "source": []
  }
 ],
 "metadata": {
  "kernelspec": {
   "display_name": "py312",
   "language": "python",
   "name": "python3"
  },
  "language_info": {
   "codemirror_mode": {
    "name": "ipython",
    "version": 3
   },
   "file_extension": ".py",
   "mimetype": "text/x-python",
   "name": "python",
   "nbconvert_exporter": "python",
   "pygments_lexer": "ipython3",
   "version": "3.12.7"
  }
 },
 "nbformat": 4,
 "nbformat_minor": 5
}
