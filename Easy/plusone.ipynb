{
 "cells": [
  {
   "cell_type": "markdown",
   "metadata": {},
   "source": [
    "Plus One\n",
    "You are given an integer array digits, where each digits[i] is the ith digit of a large integer. It is ordered from most significant to least significant digit, and it will not contain any leading zero.\n",
    "\n",
    "Return the digits of the given integer after incrementing it by one.\n",
    "\n",
    "Example 1:\n",
    "\n",
    "Input: digits = [1,2,3,4]\n",
    "\n",
    "Output: [1,2,3,5]\n",
    "Explanation 1234 + 1 = 1235.\n",
    "\n",
    "Example 2:\n",
    "\n",
    "Input: digits = [9,9,9]\n",
    "\n",
    "Output: [1,0,0,0]"
   ]
  },
  {
   "cell_type": "code",
   "execution_count": 37,
   "metadata": {},
   "outputs": [],
   "source": [
    "from typing import *\n",
    "\n",
    "class Solution:\n",
    "    def plusOne(self, digits: List[int]) -> List[int]:\n",
    "        digits_str = \"\"\n",
    "        for each_char in range(len(digits)):\n",
    "            digits_str = digits_str + str(digits[each_char])\n",
    "        digits_num = int(digits_str) + 1\n",
    "        res = list(map(int, str(digits_num)))\n",
    "\n",
    "        return res\n",
    "        \n"
   ]
  },
  {
   "cell_type": "code",
   "execution_count": 38,
   "metadata": {},
   "outputs": [
    {
     "data": {
      "text/plain": [
       "[1, 2, 3, 5]"
      ]
     },
     "execution_count": 38,
     "metadata": {},
     "output_type": "execute_result"
    }
   ],
   "source": [
    "sol = Solution()\n",
    "sol.plusOne([1,2,3,4])"
   ]
  },
  {
   "cell_type": "code",
   "execution_count": 39,
   "metadata": {},
   "outputs": [],
   "source": [
    "class Solution:\n",
    "    def plusOne(self, digits: List[int]) -> List[int]:\n",
    "        n = len(digits)\n",
    "        for i in range(n - 1, -1, -1):\n",
    "            if digits[i] < 9:\n",
    "                digits[i] += 1\n",
    "                return digits\n",
    "            digits[i] = 0\n",
    "        \n",
    "        return [1] + digits"
   ]
  },
  {
   "cell_type": "code",
   "execution_count": 40,
   "metadata": {},
   "outputs": [
    {
     "data": {
      "text/plain": [
       "[1, 2, 3, 5]"
      ]
     },
     "execution_count": 40,
     "metadata": {},
     "output_type": "execute_result"
    }
   ],
   "source": [
    "sol = Solution()\n",
    "sol.plusOne([1,2,3,4])"
   ]
  },
  {
   "cell_type": "code",
   "execution_count": null,
   "metadata": {},
   "outputs": [],
   "source": []
  }
 ],
 "metadata": {
  "kernelspec": {
   "display_name": "py312",
   "language": "python",
   "name": "python3"
  },
  "language_info": {
   "codemirror_mode": {
    "name": "ipython",
    "version": 3
   },
   "file_extension": ".py",
   "mimetype": "text/x-python",
   "name": "python",
   "nbconvert_exporter": "python",
   "pygments_lexer": "ipython3",
   "version": "3.12.7"
  }
 },
 "nbformat": 4,
 "nbformat_minor": 2
}
