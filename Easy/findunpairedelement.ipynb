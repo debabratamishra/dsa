{
 "cells": [
  {
   "cell_type": "markdown",
   "metadata": {},
   "source": [
    "A non-empty array A consisting of N integers is given. The array contains an odd number of elements, and each element of the array can be paired with another element that has the same value, except for one element that is left unpaired.\n",
    "\n",
    "For example, in array A such that:\n",
    "\n",
    "  A[0] = 9  A[1] = 3  A[2] = 9\n",
    "  A[3] = 3  A[4] = 9  A[5] = 7\n",
    "  A[6] = 9\n",
    "the elements at indexes 0 and 2 have value 9,\n",
    "the elements at indexes 1 and 3 have value 3,\n",
    "the elements at indexes 4 and 6 have value 9,\n",
    "the element at index 5 has value 7 and is unpaired.\n",
    "Write a function:\n",
    "\n",
    "def solution(A)\n",
    "\n",
    "that, given an array A consisting of N integers fulfilling the above conditions, returns the value of the unpaired element.\n",
    "\n",
    "For example, given array A such that:\n",
    "\n",
    "  A[0] = 9  A[1] = 3  A[2] = 9\n",
    "  A[3] = 3  A[4] = 9  A[5] = 7\n",
    "  A[6] = 9\n",
    "the function should return 7, as explained in the example above.\n",
    "\n",
    "Write an efficient algorithm for the following assumptions:\n",
    "\n",
    "N is an odd integer within the range [1..1,000,000];\n",
    "each element of array A is an integer within the range [1..1,000,000,000];\n",
    "all but one of the values in A occur an even number of times."
   ]
  },
  {
   "cell_type": "code",
   "execution_count": 1,
   "metadata": {},
   "outputs": [],
   "source": [
    "# Time Complexity O(N^2)\n",
    "\n",
    "def solution(A):\n",
    "    # Implement your solution here\n",
    "    unique_A = list(set(A))\n",
    "    count_dict = {}\n",
    "    for each_num in unique_A:\n",
    "        count_dict[each_num] = A.count(each_num)\n",
    "    \n",
    "    for k,v in count_dict.items():\n",
    "        if v == 1:\n",
    "            return k"
   ]
  },
  {
   "cell_type": "code",
   "execution_count": 2,
   "metadata": {},
   "outputs": [
    {
     "data": {
      "text/plain": [
       "7"
      ]
     },
     "execution_count": 2,
     "metadata": {},
     "output_type": "execute_result"
    }
   ],
   "source": [
    "solution([9,3,9,3,9,7,9])"
   ]
  },
  {
   "cell_type": "code",
   "execution_count": 3,
   "metadata": {},
   "outputs": [],
   "source": [
    "# Time complexity O(N)\n",
    "# Space Complexity O(N)\n",
    "\n",
    "from collections import Counter\n",
    "\n",
    "def solution(A):\n",
    "    count = Counter(A)  # O(n)\n",
    "    for num in A:       # O(n)\n",
    "        if count[num] == 1:\n",
    "            return num"
   ]
  },
  {
   "cell_type": "code",
   "execution_count": 4,
   "metadata": {},
   "outputs": [
    {
     "data": {
      "text/plain": [
       "7"
      ]
     },
     "execution_count": 4,
     "metadata": {},
     "output_type": "execute_result"
    }
   ],
   "source": [
    "solution([9,3,9,3,9,7,9])"
   ]
  },
  {
   "cell_type": "code",
   "execution_count": 5,
   "metadata": {},
   "outputs": [],
   "source": [
    "# Time Complexity O(N)\n",
    "# Space Complexity O(N)\n",
    "\n",
    "def solution(A):\n",
    "    # Implement your solution here\n",
    "    unique_A = set()\n",
    "    for i in A:\n",
    "        if i in unique_A:\n",
    "            unique_A.remove(i)\n",
    "        else:\n",
    "            unique_A.add(i)\n",
    "    \n",
    "    ans = unique_A.pop() if len(unique_A) > 0 else 0\n",
    "    return ans\n"
   ]
  },
  {
   "cell_type": "code",
   "execution_count": 6,
   "metadata": {},
   "outputs": [
    {
     "data": {
      "text/plain": [
       "7"
      ]
     },
     "execution_count": 6,
     "metadata": {},
     "output_type": "execute_result"
    }
   ],
   "source": [
    "solution([9,3,9,3,9,7,9])"
   ]
  },
  {
   "cell_type": "code",
   "execution_count": 7,
   "metadata": {},
   "outputs": [],
   "source": [
    "# Time complexity O(N)\n",
    "#  Space Complexity O(1)\n",
    "def solution(A):\n",
    "    result = 0\n",
    "    for number in A:\n",
    "        result ^= number\n",
    "    return result"
   ]
  },
  {
   "cell_type": "code",
   "execution_count": 8,
   "metadata": {},
   "outputs": [
    {
     "data": {
      "text/plain": [
       "7"
      ]
     },
     "execution_count": 8,
     "metadata": {},
     "output_type": "execute_result"
    }
   ],
   "source": [
    "solution([9,3,9,3,9,7,9])"
   ]
  }
 ],
 "metadata": {
  "kernelspec": {
   "display_name": "py312",
   "language": "python",
   "name": "python3"
  },
  "language_info": {
   "codemirror_mode": {
    "name": "ipython",
    "version": 3
   },
   "file_extension": ".py",
   "mimetype": "text/x-python",
   "name": "python",
   "nbconvert_exporter": "python",
   "pygments_lexer": "ipython3",
   "version": "3.12.7"
  }
 },
 "nbformat": 4,
 "nbformat_minor": 2
}
