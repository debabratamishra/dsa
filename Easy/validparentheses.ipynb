{
 "cells": [
  {
   "cell_type": "markdown",
   "id": "fe4f25e3",
   "metadata": {},
   "source": [
    "Given a string s containing just the characters '(', ')', '{', '}', '[' and ']', determine if the input string is valid.\n",
    "\n",
    "An input string is valid if:\n",
    "\n",
    "Open brackets must be closed by the same type of brackets.\n",
    "Open brackets must be closed in the correct order.\n",
    "Every close bracket has a corresponding open bracket of the same type.\n",
    " \n",
    "\n",
    "Example 1:\n",
    "\n",
    "Input: s = \"()\"\n",
    "\n",
    "Output: true\n",
    "\n",
    "Example 2:\n",
    "\n",
    "Input: s = \"()[]{}\"\n",
    "\n",
    "Output: true\n",
    "\n",
    "Example 3:\n",
    "\n",
    "Input: s = \"(]\"\n",
    "\n",
    "Output: false\n",
    "\n",
    "Example 4:\n",
    "\n",
    "Input: s = \"([])\"\n",
    "\n",
    "Output: true\n",
    "\n",
    " \n",
    "\n",
    "Constraints:\n",
    "\n",
    "1 <= s.length <= 104\n",
    "s consists of parentheses only '()[]{}'."
   ]
  },
  {
   "cell_type": "code",
   "execution_count": null,
   "id": "ee3aeef5",
   "metadata": {},
   "outputs": [],
   "source": [
    "# Brute force\n",
    "# Time complexity O(N^2)\n",
    "# Space complexity O(N)\n",
    "\n",
    "class Solution:\n",
    "    def isValid(self, s: str) -> bool:\n",
    "        # Bracket type 1 - ()\n",
    "        # Bracket type 2 - []\n",
    "        # Bracket type 3 - {}\n",
    "        while \"()\" in s or \"{}\" in s or \"[]\" in s:\n",
    "            s = s.replace(\"()\", \"\")\n",
    "            s = s.replace(\"{}\", \"\")\n",
    "            s = s.replace(\"[]\", \"\")\n",
    "        return s == \"\""
   ]
  },
  {
   "cell_type": "code",
   "execution_count": 4,
   "id": "152c0e72",
   "metadata": {},
   "outputs": [
    {
     "data": {
      "text/plain": [
       "True"
      ]
     },
     "execution_count": 4,
     "metadata": {},
     "output_type": "execute_result"
    }
   ],
   "source": [
    "sol = Solution()\n",
    "sol.isValid(\"()[{}]\")"
   ]
  },
  {
   "cell_type": "code",
   "execution_count": null,
   "id": "3c6238e1",
   "metadata": {},
   "outputs": [],
   "source": [
    "# Using Stacks\n",
    "#  Time Complexity : O(N)\n",
    "#  Space Complexity : O(N)\n",
    "class Solution:\n",
    "    def isValid(self, s:str) -> bool:\n",
    "        stack = []\n",
    "        brackets = {\")\" : \"(\", \"}\" : \"{\", \"]\" : \"[\"}\n",
    "\n",
    "        for each_ele in s:\n",
    "            if each_ele in brackets:\n",
    "                if stack and stack[-1] == brackets[each_ele]:\n",
    "                    stack.pop()\n",
    "                else:\n",
    "                    return False\n",
    "            else:\n",
    "                stack.append(each_ele)\n",
    "        \n",
    "        return True if not stack else False"
   ]
  },
  {
   "cell_type": "code",
   "execution_count": 6,
   "id": "f8f39db4",
   "metadata": {},
   "outputs": [
    {
     "data": {
      "text/plain": [
       "True"
      ]
     },
     "execution_count": 6,
     "metadata": {},
     "output_type": "execute_result"
    }
   ],
   "source": [
    "sol = Solution()\n",
    "sol.isValid(\"()[{}]\")"
   ]
  },
  {
   "cell_type": "code",
   "execution_count": null,
   "id": "3e3b730c",
   "metadata": {},
   "outputs": [],
   "source": []
  }
 ],
 "metadata": {
  "kernelspec": {
   "display_name": "py312",
   "language": "python",
   "name": "python3"
  },
  "language_info": {
   "codemirror_mode": {
    "name": "ipython",
    "version": 3
   },
   "file_extension": ".py",
   "mimetype": "text/x-python",
   "name": "python",
   "nbconvert_exporter": "python",
   "pygments_lexer": "ipython3",
   "version": "3.12.7"
  }
 },
 "nbformat": 4,
 "nbformat_minor": 5
}
