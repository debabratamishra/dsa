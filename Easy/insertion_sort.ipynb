{
 "cells": [
  {
   "cell_type": "markdown",
   "id": "37cc3e66",
   "metadata": {},
   "source": [
    "Implement Insertion Sort and return intermediate states.\n",
    "\n",
    "Insertion Sort is a simple sorting algorithm that builds the sorted list one element at a time, from left to right. It works by repeatedly taking an element from the unsorted portion and inserting it into its correct position in the sorted portion of the list.\n",
    "\n",
    "Objective:\n",
    "\n",
    "Given a list of key-value pairs, sort the list by key using Insertion Sort. Return a list of lists showing the state of the array after each insertion. If two key-value pairs have the same key, maintain their relative order in the sorted list.\n",
    "\n",
    "Input:\n",
    "\n",
    "pairs - a list of key-value pairs, where each key-value has an integer key and a string value. (0 <= pairs.length <= 100).\n",
    "Example 1:\n",
    "\n",
    "Input:\n",
    "pairs = [(5, \"apple\"), (2, \"banana\"), (9, \"cherry\")]\n",
    "\n",
    "Output:\n",
    "[[(5, \"apple\"), (2, \"banana\"), (9, \"cherry\")], \n",
    " [(2, \"banana\"), (5, \"apple\"), (9, \"cherry\")], \n",
    " [(2, \"banana\"), (5, \"apple\"), (9, \"cherry\")]]\n",
    "Notice that the output shows the state of the array after each insertion. The last state is the final sorted array. There should be pairs.length states in total.\n",
    "\n",
    "Example 2:\n",
    "\n",
    "Input:\n",
    "pairs = [(3, \"cat\"), (3, \"bird\"), (2, \"dog\")]\n",
    "\n",
    "Output:\n",
    "[[(3, \"cat\"), (3, \"bird\"), (2, \"dog\")], \n",
    " [(3, \"cat\"), (3, \"bird\"), (2, \"dog\")],\n",
    " [(2, \"dog\"), (3, \"cat\"), (3, \"bird\")]]\n",
    "In this example, you can observe that the pairs with key=3 (\"cat\" and \"bird\") maintain their relative order, illustrating the stability of the Insertion Sort algorithm."
   ]
  },
  {
   "cell_type": "code",
   "execution_count": null,
   "id": "d5214ea3",
   "metadata": {},
   "outputs": [],
   "source": [
    "from typing import List\n",
    "\n",
    "# Definition for a pair.\n",
    "class Pair:\n",
    "    def __init__(self, key: int, value: str):\n",
    "        self.key = key\n",
    "        self.value = value\n",
    "\n",
    "class Solution:\n",
    "    def insertionSort(self, pairs: List[Pair]) -> List[List[Pair]]:\n",
    "        n = len(pairs)\n",
    "        result_arr = []\n",
    "        \n",
    "        for i in range(n):\n",
    "            j = i - 1\n",
    "            while j >= 0 and pairs[j][0] > pairs[j + 1][0]:\n",
    "                pairs[j], pairs[j + 1] = pairs[j + 1], pairs[j]\n",
    "                j = j - 1\n",
    "            \n",
    "            result_arr.append(pairs.copy())\n",
    "\n",
    "        return result_arr\n",
    "\n"
   ]
  },
  {
   "cell_type": "code",
   "execution_count": 63,
   "id": "e44f5685",
   "metadata": {},
   "outputs": [
    {
     "data": {
      "text/plain": [
       "[[(5, 'apple'), (2, 'banana'), (9, 'cherry')],\n",
       " [(2, 'banana'), (5, 'apple'), (9, 'cherry')],\n",
       " [(2, 'banana'), (5, 'apple'), (9, 'cherry')]]"
      ]
     },
     "execution_count": 63,
     "metadata": {},
     "output_type": "execute_result"
    }
   ],
   "source": [
    "pairs = [(5, \"apple\"), (2, \"banana\"), (9, \"cherry\")]\n",
    "sol = Solution()\n",
    "sol.insertionSort(pairs=pairs)"
   ]
  },
  {
   "cell_type": "code",
   "execution_count": null,
   "id": "2d0d410d",
   "metadata": {},
   "outputs": [],
   "source": []
  }
 ],
 "metadata": {
  "kernelspec": {
   "display_name": "py312",
   "language": "python",
   "name": "python3"
  },
  "language_info": {
   "codemirror_mode": {
    "name": "ipython",
    "version": 3
   },
   "file_extension": ".py",
   "mimetype": "text/x-python",
   "name": "python",
   "nbconvert_exporter": "python",
   "pygments_lexer": "ipython3",
   "version": "3.12.7"
  }
 },
 "nbformat": 4,
 "nbformat_minor": 5
}
